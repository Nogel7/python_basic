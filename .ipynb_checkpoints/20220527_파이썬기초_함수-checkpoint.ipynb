{
 "cells": [
  {
   "cell_type": "markdown",
   "id": "fecdf5c9",
   "metadata": {},
   "source": [
    "# << 함수 >>\n",
    "\n",
    "반복적으로 사용하는 기능을 묶어서 함수로 정의하면 간편하게 사용할 수 있다.\n",
    "\n",
    "▶ 기본 문법 \n",
    "\n",
    "         def 함수이름(매개변수) :\n",
    "\n",
    "             <수행할 내용1>\n",
    "             <수행할 내용2>\n",
    "             <수행할 내용3>\n",
    "             \n",
    "             return \n",
    "\n",
    "            \n",
    "\n",
    "▶ 매개변수 \n",
    "\n",
    "        - 함수 안에서 사용할 값을 전달하는 변수로 <수행할 내용> 문장에서 변수로 사용된다.\n",
    "        \n",
    "        - 함수 정의문에서는 매개변수로서 선언되며 실제로 함수를 호출할 때는 인자값으로 전달된다.\n",
    "        \n",
    "        \n",
    "▶ 용어\n",
    "\n",
    "        - def : 함수를 정의할 때 사용하는 키워드\n",
    "        \n",
    "        - return : 함수의 결과값을 반환하는 키워드\n",
    "        \n",
    "        - 입력값 = 인수, 입력 인수, 인자\n",
    "        \n",
    "        - 결과값 = 출력값, 리턴값, 돌려주는 값, 반환 값"
   ]
  },
  {
   "cell_type": "code",
   "execution_count": 32,
   "id": "10f4d143",
   "metadata": {},
   "outputs": [],
   "source": [
    "# 기본적인 함수의 예제(불완전한 실행문)\n",
    "def plus():\n",
    "    print(b + 1)"
   ]
  },
  {
   "cell_type": "code",
   "execution_count": 33,
   "id": "8bae5825",
   "metadata": {},
   "outputs": [
    {
     "ename": "TypeError",
     "evalue": "plus() takes 0 positional arguments but 1 was given",
     "output_type": "error",
     "traceback": [
      "\u001b[1;31m---------------------------------------------------------------------------\u001b[0m",
      "\u001b[1;31mTypeError\u001b[0m                                 Traceback (most recent call last)",
      "Input \u001b[1;32mIn [33]\u001b[0m, in \u001b[0;36m<cell line: 1>\u001b[1;34m()\u001b[0m\n\u001b[1;32m----> 1\u001b[0m result \u001b[38;5;241m=\u001b[39m \u001b[43mplus\u001b[49m\u001b[43m(\u001b[49m\u001b[38;5;241;43m5\u001b[39;49m\u001b[43m)\u001b[49m\n\u001b[0;32m      2\u001b[0m result\n",
      "\u001b[1;31mTypeError\u001b[0m: plus() takes 0 positional arguments but 1 was given"
     ]
    }
   ],
   "source": [
    "result = plus(5)\n",
    "result"
   ]
  },
  {
   "cell_type": "code",
   "execution_count": 35,
   "id": "b1345363",
   "metadata": {},
   "outputs": [],
   "source": [
    "# return문의 역활\n",
    "def plus2(a):\n",
    "    return a + 1"
   ]
  },
  {
   "cell_type": "code",
   "execution_count": 36,
   "id": "48cfca82",
   "metadata": {},
   "outputs": [
    {
     "data": {
      "text/plain": [
       "6"
      ]
     },
     "execution_count": 36,
     "metadata": {},
     "output_type": "execute_result"
    }
   ],
   "source": [
    "result = plus2(5)\n",
    "result"
   ]
  },
  {
   "cell_type": "markdown",
   "id": "0e87a031",
   "metadata": {},
   "source": [
    "###(참고 ) 매개변수과 인수\n",
    "\n",
    "#### 매개변수(parameter, 입력인자, 입력값)\n",
    "함수의 전달된 값을 저장하는 변수 / 함수를 선언할 때 정의하는 변수\n",
    "\n",
    "\n",
    "#### 인수 / 인자 (argument)\n",
    "함수를 호출(=사용)할 때 전달하는 입력 값"
   ]
  },
  {
   "cell_type": "code",
   "execution_count": 27,
   "id": "5aa94b69",
   "metadata": {},
   "outputs": [],
   "source": [
    "# 매개변수를 2개 이상 받는 케이스 \n",
    "def sum(a,b):\n",
    "    result = a + b\n",
    "    return result"
   ]
  },
  {
   "cell_type": "code",
   "execution_count": 28,
   "id": "4a5f5754",
   "metadata": {},
   "outputs": [
    {
     "data": {
      "text/plain": [
       "8"
      ]
     },
     "execution_count": 28,
     "metadata": {},
     "output_type": "execute_result"
    }
   ],
   "source": [
    "sum(3,5)"
   ]
  },
  {
   "cell_type": "code",
   "execution_count": null,
   "id": "a4715ec1",
   "metadata": {},
   "outputs": [],
   "source": [
    "### 2.매개변수 있는 함수\n",
    "\n",
    "- 인자 값을 전달 할 때 값만 입력하면 순서대로 매개변수에 할당된다.\n",
    "\n",
    "- 매개변수명을 지정하여 전달할 수 있다."
   ]
  },
  {
   "cell_type": "code",
   "execution_count": 30,
   "id": "737c6598",
   "metadata": {},
   "outputs": [],
   "source": [
    "# 매개변수가 3개인 함수 설정\n",
    "def test1(a,b,c):\n",
    "    print(a,b,c)\n",
    "    result = a + b + c\n",
    "    return result"
   ]
  },
  {
   "cell_type": "code",
   "execution_count": 31,
   "id": "b1514c06",
   "metadata": {},
   "outputs": [
    {
     "name": "stdout",
     "output_type": "stream",
     "text": [
      "10 20 30\n"
     ]
    },
    {
     "data": {
      "text/plain": [
       "60"
      ]
     },
     "execution_count": 31,
     "metadata": {},
     "output_type": "execute_result"
    }
   ],
   "source": [
    "test1(10,20,30)"
   ]
  },
  {
   "cell_type": "code",
   "execution_count": 37,
   "id": "0dd43fe4",
   "metadata": {},
   "outputs": [
    {
     "name": "stdout",
     "output_type": "stream",
     "text": [
      "10 30 20\n"
     ]
    },
    {
     "data": {
      "text/plain": [
       "60"
      ]
     },
     "execution_count": 37,
     "metadata": {},
     "output_type": "execute_result"
    }
   ],
   "source": [
    "# 인자값 순서를 바꿔서 전달(반드시 매개변수명으로 지정한 변수명에 대입해줘야함)\n",
    "test1(c=20, a=10, b=30)"
   ]
  },
  {
   "cell_type": "markdown",
   "id": "864bbea9",
   "metadata": {},
   "source": [
    "### 2-1.매개변수 초기 값 설정\n",
    "- 함수 정의문에서 매개변수 값을 할당하면 초기 값으로 설정\n",
    "\n",
    "- 함수 호출 시 값을 입력하지 않으면 초기 값으로 사용\n",
    "\n",
    "- 초기화시키고 싶은 매개변수들을 항상 뒤쪽에 위치\n",
    "\n",
    "(참고) 포맷팅함수에서 인덱스 번호, 변수명 사용했던 규칙과 유사"
   ]
  },
  {
   "cell_type": "code",
   "execution_count": 39,
   "id": "516f8e04",
   "metadata": {},
   "outputs": [],
   "source": [
    "# 디폴트값 선언을 사용한 예시\n",
    "def test2(a=1 ,b=2,c=3):\n",
    "    resutl = a + b + c\n",
    "    return result"
   ]
  },
  {
   "cell_type": "code",
   "execution_count": 45,
   "id": "0ea49e76",
   "metadata": {},
   "outputs": [
    {
     "data": {
      "text/plain": [
       "6"
      ]
     },
     "execution_count": 45,
     "metadata": {},
     "output_type": "execute_result"
    }
   ],
   "source": [
    "test2(10)"
   ]
  },
  {
   "cell_type": "code",
   "execution_count": 60,
   "id": "6c806519",
   "metadata": {},
   "outputs": [
    {
     "ename": "SyntaxError",
     "evalue": "invalid syntax (2130524867.py, line 3)",
     "output_type": "error",
     "traceback": [
      "\u001b[1;36m  Input \u001b[1;32mIn [60]\u001b[1;36m\u001b[0m\n\u001b[1;33m    result a + b + c\u001b[0m\n\u001b[1;37m           ^\u001b[0m\n\u001b[1;31mSyntaxError\u001b[0m\u001b[1;31m:\u001b[0m invalid syntax\n"
     ]
    }
   ],
   "source": [
    "# 디폴트값 설정은 반드시 오른쪽 요소부터 지정한다.\n",
    "def test3(a, b=2, c=1):\n",
    "    result a + b + c\n",
    "    return result"
   ]
  },
  {
   "cell_type": "code",
   "execution_count": null,
   "id": "647e2afa",
   "metadata": {},
   "outputs": [],
   "source": [
    "test3(10)"
   ]
  },
  {
   "cell_type": "markdown",
   "id": "a5a1b533",
   "metadata": {},
   "source": [
    "### 가변인자 리스트\n",
    "- 입력할 파라미터의 개수가 몇 개인지 모를때 사용함\n",
    "- 파라미터명 왼쪽에 *을 붙인다"
   ]
  },
  {
   "cell_type": "code",
   "execution_count": 58,
   "id": "b4303ab3",
   "metadata": {},
   "outputs": [],
   "source": [
    "def get_member_list(p1):\n",
    "    print(\"출석학생은 %s님 입니다.\" % p1)"
   ]
  },
  {
   "cell_type": "code",
   "execution_count": 59,
   "id": "edc93c29",
   "metadata": {},
   "outputs": [
    {
     "name": "stdout",
     "output_type": "stream",
     "text": [
      "출석학생은 채종훈님 입니다.\n"
     ]
    }
   ],
   "source": [
    "get_member_list('채종훈')"
   ]
  },
  {
   "cell_type": "code",
   "execution_count": 61,
   "id": "a572b2c8",
   "metadata": {},
   "outputs": [],
   "source": [
    "def get_member_list2(p1,p2):\n",
    "    print(\"출석학생은 %s, %s님 입니다\" %(p1,p2))"
   ]
  },
  {
   "cell_type": "code",
   "execution_count": 62,
   "id": "2f5202de",
   "metadata": {},
   "outputs": [
    {
     "name": "stdout",
     "output_type": "stream",
     "text": [
      "출석학생은 채종훈, 김파이썬님 입니다\n"
     ]
    }
   ],
   "source": [
    "get_member_list2(\"채종훈\",\"김파이썬\")"
   ]
  },
  {
   "cell_type": "code",
   "execution_count": 67,
   "id": "272339d6",
   "metadata": {},
   "outputs": [],
   "source": [
    "def get_members(*stu):\n",
    "    print(stu)\n",
    "    print(type(stu))\n",
    "    message = \"출석학생은\"\n",
    "    for i in stu:\n",
    "        message += str(i) + \",\"\n",
    "    message += \"입니다\"\n",
    "    print(message)"
   ]
  },
  {
   "cell_type": "code",
   "execution_count": 69,
   "id": "62b69bf6",
   "metadata": {},
   "outputs": [
    {
     "name": "stdout",
     "output_type": "stream",
     "text": [
      "('채종훈', '김파이썬', '어팬더스', 1, 2, 3, 4, 5, '밥', '국수', '서울', '방콕')\n",
      "<class 'tuple'>\n",
      "출석학생은채종훈,김파이썬,어팬더스,1,2,3,4,5,밥,국수,서울,방콕,입니다\n"
     ]
    }
   ],
   "source": [
    "get_members(\"채종훈\",\"김파이썬\",\"어팬더스\",1,2,3,4,5,\"밥\",\"국수\",\"서울\",\"방콕\")"
   ]
  },
  {
   "cell_type": "markdown",
   "id": "4f9daba1",
   "metadata": {},
   "source": [
    "### 6.키워드 파라미터 kwargs(keyword arguments)\n",
    "\n",
    "딕셔너리 형태로 저장되는 매캐변수로 정의"
   ]
  },
  {
   "cell_type": "code",
   "execution_count": 72,
   "id": "d54fca79",
   "metadata": {},
   "outputs": [],
   "source": [
    "def test4(**kwargs):\n",
    "    return kwargs"
   ]
  },
  {
   "cell_type": "code",
   "execution_count": 73,
   "id": "1a335010",
   "metadata": {},
   "outputs": [
    {
     "data": {
      "text/plain": [
       "{'name': '홍길동', 'age': 19}"
      ]
     },
     "execution_count": 73,
     "metadata": {},
     "output_type": "execute_result"
    }
   ],
   "source": [
    "test4(name=\"홍길동\", age=19)"
   ]
  },
  {
   "cell_type": "markdown",
   "id": "8b930ec6",
   "metadata": {},
   "source": [
    "### 7.함수의 결과 값\n",
    "- 함수의 결과 값은 항상 1개\n",
    "\n",
    "- 여러 개의 결과를 가질 수 있지만 하나의 튜플로 전달\n",
    "\n",
    "> 기본 문법\n",
    "        \n",
    "        def 함수이름(매개변수이름):\n",
    "            \n",
    "            return 결과값 1, 결과값 2"
   ]
  },
  {
   "cell_type": "code",
   "execution_count": 75,
   "id": "dbf57eb4",
   "metadata": {},
   "outputs": [],
   "source": [
    "# return 키워드는 전달받은 결과물이 2개 이상인 경우(,로 구분지어서 보내는 경우) 하나의 '튜플'로 묶어서 반환\n",
    "# 최종적으로 '하나의 변수'에 담을 수 있는 '하나의 값' 으로 처리된다\n",
    "def test(a,b):\n",
    "    sum_ = a + b\n",
    "    mul = a * b\n",
    "    return sum_,mul"
   ]
  },
  {
   "cell_type": "code",
   "execution_count": 76,
   "id": "e4e1e37e",
   "metadata": {},
   "outputs": [
    {
     "name": "stdout",
     "output_type": "stream",
     "text": [
      "(7, 12)\n"
     ]
    }
   ],
   "source": [
    "# 결과를 통째로 가져오기\n",
    "a = test(3,4)\n",
    "print(a)"
   ]
  },
  {
   "cell_type": "code",
   "execution_count": 77,
   "id": "6ec2fc85",
   "metadata": {},
   "outputs": [
    {
     "name": "stdout",
     "output_type": "stream",
     "text": [
      "11\n",
      "30\n"
     ]
    }
   ],
   "source": [
    "# 결과를 개별 변수에 쪼개서 가져오기\n",
    "s, m = test(5,6)\n",
    "print(s)\n",
    "print(m)"
   ]
  },
  {
   "cell_type": "markdown",
   "id": "676b109a",
   "metadata": {},
   "source": [
    "##<<연습문제>>\n",
    "\n",
    "#### 1.입력받은 모든 수의 평균값을 계산하는 함수를 작성해보세요.\n",
    "\n",
    "    - 조건1. 숫자의 개수는 정해져있지 않다."
   ]
  },
  {
   "cell_type": "code",
   "execution_count": 4,
   "id": "41a4aba1",
   "metadata": {},
   "outputs": [],
   "source": [
    "def get_average(*num_list):\n",
    "    return sum(num_list)/len(num_list)"
   ]
  },
  {
   "cell_type": "code",
   "execution_count": 5,
   "id": "1f659fe3",
   "metadata": {},
   "outputs": [
    {
     "data": {
      "text/plain": [
       "30.25"
      ]
     },
     "execution_count": 5,
     "metadata": {},
     "output_type": "execute_result"
    }
   ],
   "source": [
    "get_average(10,20,30,20,50,33,58,21)"
   ]
  },
  {
   "cell_type": "markdown",
   "id": "fc1d5db7",
   "metadata": {},
   "source": [
    "## 2. 리스트로 입력받은 수들에 대한 양수만 필터링하여 반환해주는 함수를 작성해보세요,\n",
    "    - 조건1. 입력값은 인자값으로 리스트를 전달\n",
    "    - 조건2. 결과값은 양수로만 구성된 새로운 리스트"
   ]
  },
  {
   "cell_type": "code",
   "execution_count": 7,
   "id": "4cd0c788",
   "metadata": {},
   "outputs": [],
   "source": [
    "def get_positive_list(*num_list):\n",
    "    pos_list = []\n",
    "    for i in num_list:\n",
    "        if i > 0:\n",
    "            pos_list.append(i)\n",
    "    return pos_list"
   ]
  },
  {
   "cell_type": "code",
   "execution_count": 8,
   "id": "89361974",
   "metadata": {},
   "outputs": [
    {
     "data": {
      "text/plain": [
       "[10, 20, 52, 40, 95]"
      ]
     },
     "execution_count": 8,
     "metadata": {},
     "output_type": "execute_result"
    }
   ],
   "source": [
    "get_positive_list(10,20,-20,-21,52,40,-19,-80,95)"
   ]
  }
 ],
 "metadata": {
  "kernelspec": {
   "display_name": "Python 3 (ipykernel)",
   "language": "python",
   "name": "python3"
  },
  "language_info": {
   "codemirror_mode": {
    "name": "ipython",
    "version": 3
   },
   "file_extension": ".py",
   "mimetype": "text/x-python",
   "name": "python",
   "nbconvert_exporter": "python",
   "pygments_lexer": "ipython3",
   "version": "3.9.12"
  }
 },
 "nbformat": 4,
 "nbformat_minor": 5
}
