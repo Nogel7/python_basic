{
 "cells": [
  {
   "cell_type": "markdown",
   "id": "e8dada7f",
   "metadata": {},
   "source": [
    "주피터 노트북 사용법\n",
    "셀을 클릭하면 녹색으로 선택 영역이 지정됨.<br/>\n",
    "녹색으로 선택된 셀에는 키보드 입력시 코드/입력문이 직접 입력됨.<br/>\n",
    "녹색으로 선택된 셀에 esc를 입력하거나 혹은 셀만 선택시 파란색으로 선택됨.<br/>\n",
    "\n",
    "파란색으로 선택된 셀에<br/>\n",
    "b 입력 => 선택된 셀 아래에 입력용 셀 추가<br/>\n",
    "a 입력 => 선택된 셀 위에 입력용 셀 추가<br/>\n",
    "dd(두 번) 입력 => 선택된 셀 삭제<br/>\n",
    "\n",
    "m => 선택된 셀을 코드 입력용이 아닌 필기용으로 전환<br/>\n",
    "y => 선택된 샐을 필기용에서 코드입력용으로 전화<br/>\n",
    "\n",
    "필기용 셀은 shift + enter를 누르면 필기가 완료된 것으로 간주합니다.<br/>"
   ]
  },
  {
   "cell_type": "markdown",
   "id": "1762c521",
   "metadata": {},
   "source": []
  }
 ],
 "metadata": {
  "kernelspec": {
   "display_name": "Python 3 (ipykernel)",
   "language": "python",
   "name": "python3"
  },
  "language_info": {
   "codemirror_mode": {
    "name": "ipython",
    "version": 3
   },
   "file_extension": ".py",
   "mimetype": "text/x-python",
   "name": "python",
   "nbconvert_exporter": "python",
   "pygments_lexer": "ipython3",
   "version": "3.9.12"
  }
 },
 "nbformat": 4,
 "nbformat_minor": 5
}
